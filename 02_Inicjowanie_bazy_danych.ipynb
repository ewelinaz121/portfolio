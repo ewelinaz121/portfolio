{
 "cells": [
  {
   "cell_type": "code",
   "execution_count": 2,
   "metadata": {
    "tags": []
   },
   "outputs": [
    {
     "name": "stdout",
     "output_type": "stream",
     "text": [
      "Collecting psycopg2\n",
      "  Obtaining dependency information for psycopg2 from https://files.pythonhosted.org/packages/37/2c/5133dd3183a3bd82371569f0dd783e6927672de7e671b278ce248810b7f7/psycopg2-2.9.9-cp311-cp311-win_amd64.whl.metadata\n",
      "  Downloading psycopg2-2.9.9-cp311-cp311-win_amd64.whl.metadata (4.5 kB)\n",
      "Downloading psycopg2-2.9.9-cp311-cp311-win_amd64.whl (1.2 MB)\n",
      "   ---------------------------------------- 0.0/1.2 MB ? eta -:--:--\n",
      "   ---------------------------------------- 0.0/1.2 MB ? eta -:--:--\n",
      "   - -------------------------------------- 0.0/1.2 MB 487.6 kB/s eta 0:00:03\n",
      "   ------- -------------------------------- 0.2/1.2 MB 1.8 MB/s eta 0:00:01\n",
      "   --------------------------- ------------ 0.8/1.2 MB 5.1 MB/s eta 0:00:01\n",
      "   ---------------------------------------- 1.2/1.2 MB 6.1 MB/s eta 0:00:00\n",
      "Installing collected packages: psycopg2\n",
      "Successfully installed psycopg2-2.9.9\n",
      "Note: you may need to restart the kernel to use updated packages.\n"
     ]
    }
   ],
   "source": [
    "pip install psycopg2"
   ]
  },
  {
   "cell_type": "code",
   "execution_count": 13,
   "metadata": {},
   "outputs": [],
   "source": [
    "import psycopg2\n",
    "from psycopg2 import sql\n",
    "from pathlib import Path"
   ]
  },
  {
   "cell_type": "markdown",
   "metadata": {},
   "source": [
    "Connection to the database"
   ]
  },
  {
   "cell_type": "code",
   "execution_count": 14,
   "metadata": {},
   "outputs": [],
   "source": [
    "username = 'postgres'\n",
    "password = 'kasztanP7r.U1'\n",
    "\n",
    "host = 'localhost'\n",
    "database = 'airlines'\n",
    "port = '5432'"
   ]
  },
  {
   "cell_type": "markdown",
   "metadata": {},
   "source": [
    "defining the `con` and `cursor` variables"
   ]
  },
  {
   "cell_type": "code",
   "execution_count": 15,
   "metadata": {},
   "outputs": [],
   "source": [
    "con = psycopg2.connect(dbname=database, user=username, password=password, host=host, port=port)\n",
    "cursor = con.cursor()"
   ]
  },
  {
   "cell_type": "code",
   "execution_count": 16,
   "metadata": {},
   "outputs": [
    {
     "name": "stdout",
     "output_type": "stream",
     "text": [
      "Połączenie z bazą danych zostało ustanowione.\n"
     ]
    }
   ],
   "source": [
    "# Creating a connection\n",
    "try:\n",
    "    con = psycopg2.connect(dbname=database, user=username, password=password, host=host, port=port)\n",
    "    cursor = con.cursor()\n",
    "    print(\"Połączenie z bazą danych zostało ustanowione.\")\n",
    "except psycopg2.Error as e:\n",
    "    print(\"Błąd podczas nawiązywania połączenia z bazą danych:\", e)"
   ]
  },
  {
   "cell_type": "markdown",
   "metadata": {},
   "source": [
    "Loading the database_schema.sql file"
   ]
  },
  {
   "cell_type": "code",
   "execution_count": 17,
   "metadata": {},
   "outputs": [
    {
     "name": "stdout",
     "output_type": "stream",
     "text": [
      "Plik database_schema.sql został wczytany pomyślnie.\n"
     ]
    }
   ],
   "source": [
    "# Path to the database schema file\n",
    "schema_file_path = Path(r'C:\\Users\\eweli\\Downloads\\Pliki_do_projektu_końcowego\\sql\\database_schema.sql')\n",
    "\n",
    "# Loading the contents of the file\n",
    "try:\n",
    "    with open(schema_file_path, 'r') as file:\n",
    "        schema_sql = file.read()\n",
    "    print(\"Plik database_schema.sql został wczytany pomyślnie.\")\n",
    "except FileNotFoundError:\n",
    "    print(\"Nie można znaleźć pliku database_schema.sql w podanej lokalizacji.\")\n"
   ]
  },
  {
   "cell_type": "markdown",
   "metadata": {},
   "source": [
    " W tym miejscu odpowiednio rozdziel zawartość pliku `database_schema.sql` na mniejsze kwerendy używając `;`"
   ]
  },
  {
   "cell_type": "code",
   "execution_count": 18,
   "metadata": {},
   "outputs": [
    {
     "name": "stdout",
     "output_type": "stream",
     "text": [
      "DROP TABLE IF EXISTS public.aircraft CASCADE\n",
      "--------------------------------------------------\n",
      "CREATE TABLE IF NOT EXISTS public.aircraft\n",
      "(\n",
      "    id serial,\n",
      "    manufacture_year bigint,\n",
      "    tail_num text,\n",
      "    number_of_seats double precision\n",
      ")\n",
      "--------------------------------------------------\n",
      "CREATE OR REPLACE VIEW public.v_aircraft_blocker AS\n",
      "SELECT 1 FROM public.aircraft LIMIT 1\n",
      "--------------------------------------------------\n",
      "DROP TABLE IF EXISTS public.airport_weather CASCADE\n",
      "--------------------------------------------------\n",
      "CREATE TABLE IF NOT EXISTS public.airport_weather\n",
      "(\n",
      "    id serial,\n",
      "    station text,\n",
      "    name text,\n",
      "    date text,\n",
      "    awnd double precision,\n",
      "    pgtm double precision,\n",
      "    prcp double precision,\n",
      "    snow double precision,\n",
      "    snwd double precision,\n",
      "    tavg double precision,\n",
      "    tmax double precision,\n",
      "    tmin double precision,\n",
      "    wdf2 double precision,\n",
      "    wdf5 double precision,\n",
      "    wsf2 double precision,\n",
      "    wsf5 double precision,\n",
      "    wt01 double precision,\n",
      "    wt02 double precision,\n",
      "    wt03 double precision,\n",
      "    wt04 double precision,\n",
      "    wt05 double precision,\n",
      "    wt06 double precision,\n",
      "    wt07 double precision,\n",
      "    wt08 double precision,\n",
      "    wt09 double precision,\n",
      "    wesd double precision,\n",
      "    wt10 double precision,\n",
      "    psun double precision,\n",
      "    tsun double precision,\n",
      "    sn32 double precision,\n",
      "    sx32 double precision,\n",
      "    tobs double precision,\n",
      "    wt11 double precision,\n",
      "    wt18 double precision\n",
      ")\n",
      "--------------------------------------------------\n",
      "/* BLOCKER TO FORCE USAGE if_exists in PANDAS REMOVE IF OBSTACLE*/\n",
      "CREATE OR REPLACE VIEW public.v_aircraft_weather_blocker AS\n",
      "SELECT 1 FROM public.airport_weather LIMIT 1\n",
      "--------------------------------------------------\n",
      "DROP TABLE IF EXISTS public.flight CASCADE\n",
      "--------------------------------------------------\n",
      "CREATE TABLE IF NOT EXISTS public.flight\n",
      "(\n",
      "    id serial,\n",
      "    month bigint,\n",
      "    day_of_month bigint,\n",
      "    day_of_week bigint,\n",
      "    op_unique_carrier text,\n",
      "    tail_num text,\n",
      "    op_carrier_fl_num bigint,\n",
      "    origin_airport_id bigint,\n",
      "    dest_airport_id bigint,\n",
      "    crs_dep_time bigint,\n",
      "    dep_time double precision,\n",
      "    dep_delay_new double precision,\n",
      "    dep_time_blk text,\n",
      "    crs_arr_time bigint,\n",
      "    arr_time double precision,\n",
      "    arr_delay_new double precision,\n",
      "    arr_time_blk text,\n",
      "    cancelled double precision,\n",
      "    crs_elapsed_time double precision,\n",
      "    actual_elapsed_time double precision,\n",
      "    distance double precision,\n",
      "    distance_group bigint,\n",
      "    carrier_delay double precision,\n",
      "    weather_delay double precision,\n",
      "    nas_delay double precision,\n",
      "    security_delay double precision,\n",
      "    late_aircraft_delay double precision,\n",
      "    year bigint\n",
      ")\n",
      "--------------------------------------------------\n",
      "/* BLOCKER TO FORCE USAGE if_exists in PANDAS REMOVE IF OBSTACLE*/\n",
      "CREATE OR REPLACE VIEW public.v_flight_blocker AS\n",
      "SELECT 1 FROM public.flight LIMIT 1\n",
      "--------------------------------------------------\n",
      "DROP TABLE IF EXISTS public.airport_list CASCADE\n",
      "--------------------------------------------------\n",
      "CREATE TABLE IF NOT EXISTS public.airport_list\n",
      "(\n",
      "    id serial,\n",
      "    origin_airport_id bigint,\n",
      "    display_airport_name text ,\n",
      "    origin_city_name text ,\n",
      "    name text \n",
      ")\n",
      "--------------------------------------------------\n",
      "CREATE OR REPLACE VIEW public.v_airport_list_blocker AS\n",
      "SELECT 1 FROM public.airport_list LIMIT 1\n",
      "--------------------------------------------------\n"
     ]
    }
   ],
   "source": [
    "# Contents of the database_schema.sql file\n",
    "schema_content = \"\"\"\n",
    "DROP TABLE IF EXISTS public.aircraft CASCADE;\n",
    "CREATE TABLE IF NOT EXISTS public.aircraft\n",
    "(\n",
    "    id serial,\n",
    "    manufacture_year bigint,\n",
    "    tail_num text,\n",
    "    number_of_seats double precision\n",
    ")\n",
    ";\n",
    "\n",
    "CREATE OR REPLACE VIEW public.v_aircraft_blocker AS\n",
    "SELECT 1 FROM public.aircraft LIMIT 1;\n",
    "\n",
    "DROP TABLE IF EXISTS public.airport_weather CASCADE;\n",
    "CREATE TABLE IF NOT EXISTS public.airport_weather\n",
    "(\n",
    "    id serial,\n",
    "    station text,\n",
    "    name text,\n",
    "    date text,\n",
    "    awnd double precision,\n",
    "    pgtm double precision,\n",
    "    prcp double precision,\n",
    "    snow double precision,\n",
    "    snwd double precision,\n",
    "    tavg double precision,\n",
    "    tmax double precision,\n",
    "    tmin double precision,\n",
    "    wdf2 double precision,\n",
    "    wdf5 double precision,\n",
    "    wsf2 double precision,\n",
    "    wsf5 double precision,\n",
    "    wt01 double precision,\n",
    "    wt02 double precision,\n",
    "    wt03 double precision,\n",
    "    wt04 double precision,\n",
    "    wt05 double precision,\n",
    "    wt06 double precision,\n",
    "    wt07 double precision,\n",
    "    wt08 double precision,\n",
    "    wt09 double precision,\n",
    "    wesd double precision,\n",
    "    wt10 double precision,\n",
    "    psun double precision,\n",
    "    tsun double precision,\n",
    "    sn32 double precision,\n",
    "    sx32 double precision,\n",
    "    tobs double precision,\n",
    "    wt11 double precision,\n",
    "    wt18 double precision\n",
    ")\n",
    ";\n",
    "\n",
    "/* BLOCKER TO FORCE USAGE if_exists in PANDAS REMOVE IF OBSTACLE*/\n",
    "CREATE OR REPLACE VIEW public.v_aircraft_weather_blocker AS\n",
    "SELECT 1 FROM public.airport_weather LIMIT 1;\n",
    "\n",
    "DROP TABLE IF EXISTS public.flight CASCADE;\n",
    "CREATE TABLE IF NOT EXISTS public.flight\n",
    "(\n",
    "    id serial,\n",
    "    month bigint,\n",
    "    day_of_month bigint,\n",
    "    day_of_week bigint,\n",
    "    op_unique_carrier text,\n",
    "    tail_num text,\n",
    "    op_carrier_fl_num bigint,\n",
    "    origin_airport_id bigint,\n",
    "    dest_airport_id bigint,\n",
    "    crs_dep_time bigint,\n",
    "    dep_time double precision,\n",
    "    dep_delay_new double precision,\n",
    "    dep_time_blk text,\n",
    "    crs_arr_time bigint,\n",
    "    arr_time double precision,\n",
    "    arr_delay_new double precision,\n",
    "    arr_time_blk text,\n",
    "    cancelled double precision,\n",
    "    crs_elapsed_time double precision,\n",
    "    actual_elapsed_time double precision,\n",
    "    distance double precision,\n",
    "    distance_group bigint,\n",
    "    carrier_delay double precision,\n",
    "    weather_delay double precision,\n",
    "    nas_delay double precision,\n",
    "    security_delay double precision,\n",
    "    late_aircraft_delay double precision,\n",
    "    year bigint\n",
    ")\n",
    ";\n",
    "\n",
    "/* BLOCKER TO FORCE USAGE if_exists in PANDAS REMOVE IF OBSTACLE*/\n",
    "CREATE OR REPLACE VIEW public.v_flight_blocker AS\n",
    "SELECT 1 FROM public.flight LIMIT 1;\n",
    "\n",
    "DROP TABLE IF EXISTS public.airport_list CASCADE;\n",
    "CREATE TABLE IF NOT EXISTS public.airport_list\n",
    "(\n",
    "    id serial,\n",
    "    origin_airport_id bigint,\n",
    "    display_airport_name text ,\n",
    "    origin_city_name text ,\n",
    "    name text \n",
    ")\n",
    ";\n",
    "\n",
    "CREATE OR REPLACE VIEW public.v_airport_list_blocker AS\n",
    "SELECT 1 FROM public.airport_list LIMIT 1\n",
    "\"\"\"\n",
    "\n",
    "# Division of content into queries\n",
    "queries = schema_content.split(';')\n",
    "\n",
    "# Removing whitespace from queries\n",
    "queries = [query.strip() for query in queries if query.strip()]\n",
    "\n",
    "# View split queries\n",
    "for query in queries:\n",
    "    print(query)\n",
    "    print('-' * 50)"
   ]
  },
  {
   "cell_type": "markdown",
   "metadata": {},
   "source": [
    " W tym miejscu wykonaj każdą z kwerend, aby zainicjować strukturę bazy danych"
   ]
  },
  {
   "cell_type": "code",
   "execution_count": 19,
   "metadata": {},
   "outputs": [
    {
     "name": "stdout",
     "output_type": "stream",
     "text": [
      "Kwerenda została wykonana pomyślnie.\n",
      "Kwerenda została wykonana pomyślnie.\n",
      "Kwerenda została wykonana pomyślnie.\n",
      "Kwerenda została wykonana pomyślnie.\n",
      "Kwerenda została wykonana pomyślnie.\n",
      "Kwerenda została wykonana pomyślnie.\n",
      "Kwerenda została wykonana pomyślnie.\n",
      "Kwerenda została wykonana pomyślnie.\n",
      "Kwerenda została wykonana pomyślnie.\n",
      "Kwerenda została wykonana pomyślnie.\n",
      "Kwerenda została wykonana pomyślnie.\n",
      "Kwerenda została wykonana pomyślnie.\n"
     ]
    }
   ],
   "source": [
    "# Executing each query separately\n",
    "for query in queries:\n",
    "    if query.strip():  # Sprawdzenie, czy kwerenda nie jest pusta\n",
    "        try:\n",
    "            cursor.execute(query)\n",
    "            print(\"Kwerenda została wykonana pomyślnie.\")\n",
    "        except psycopg2.Error as e:\n",
    "            print(\"Błąd podczas wykonywania kwerendy:\", e)\n",
    "\n"
   ]
  },
  {
   "cell_type": "markdown",
   "metadata": {},
   "source": [
    "Confirmation of all operations on the database, i.e. creation of tables"
   ]
  },
  {
   "cell_type": "code",
   "execution_count": 20,
   "metadata": {},
   "outputs": [],
   "source": [
    "# Zatwierdzenie zmian\n",
    "con.commit()\n"
   ]
  },
  {
   "cell_type": "markdown",
   "metadata": {},
   "source": [
    "Verification"
   ]
  },
  {
   "cell_type": "code",
   "execution_count": 21,
   "metadata": {},
   "outputs": [],
   "source": [
    "def check_if_table_exists(table_name):\n",
    "    msg = f\"Sprawdzam czy istnieje tabela {table_name}\"\n",
    "    print(msg)\n",
    "\n",
    "    query = f\"select 1 from {table_name}\"\n",
    "    # jeżeli tabela nie istnieje, ten krok zwróci wyjątek\n",
    "    cursor.execute(query)\n",
    "    print('OK!')\n"
   ]
  },
  {
   "cell_type": "code",
   "execution_count": 22,
   "metadata": {},
   "outputs": [],
   "source": [
    "tables_to_test = [\n",
    "    'aircraft',\n",
    "    'airport_weather',\n",
    "    'flight',\n",
    "    'airport_list'\n",
    "]"
   ]
  },
  {
   "cell_type": "code",
   "execution_count": 23,
   "metadata": {},
   "outputs": [
    {
     "name": "stdout",
     "output_type": "stream",
     "text": [
      "Sprawdzam czy istnieje tabela aircraft\n",
      "OK!\n",
      "Sprawdzam czy istnieje tabela airport_weather\n",
      "OK!\n",
      "Sprawdzam czy istnieje tabela flight\n",
      "OK!\n",
      "Sprawdzam czy istnieje tabela airport_list\n",
      "OK!\n"
     ]
    }
   ],
   "source": [
    "for table in tables_to_test:\n",
    "    check_if_table_exists(table)"
   ]
  },
  {
   "cell_type": "code",
   "execution_count": 24,
   "metadata": {},
   "outputs": [
    {
     "name": "stdout",
     "output_type": "stream",
     "text": [
      "Wszystko wygląda OK :) Możesz przejść do kolejnego zadania.\n"
     ]
    }
   ],
   "source": [
    "con.close()\n",
    "msg = \"Wszystko wygląda OK :) Możesz przejść do kolejnego zadania.\"\n",
    "print(msg)"
   ]
  },
  {
   "cell_type": "code",
   "execution_count": null,
   "metadata": {},
   "outputs": [],
   "source": []
  }
 ],
 "metadata": {
  "kernelspec": {
   "display_name": "Python 3 (ipykernel)",
   "language": "python",
   "name": "python3"
  },
  "language_info": {
   "codemirror_mode": {
    "name": "ipython",
    "version": 3
   },
   "file_extension": ".py",
   "mimetype": "text/x-python",
   "name": "python",
   "nbconvert_exporter": "python",
   "pygments_lexer": "ipython3",
   "version": "3.11.5"
  },
  "vscode": {
   "interpreter": {
    "hash": "38d75d0df746d7f75dd34c5d1915af59cb55786647bd68b8d9064425d7680b12"
   }
  }
 },
 "nbformat": 4,
 "nbformat_minor": 4
}
