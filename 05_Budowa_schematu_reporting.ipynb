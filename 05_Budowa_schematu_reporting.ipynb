{
 "cells": [
  {
   "cell_type": "code",
   "execution_count": 1,
   "metadata": {},
   "outputs": [],
   "source": [
    "import psycopg2\n",
    "from psycopg2 import sql\n",
    "from pathlib import Path\n"
   ]
  },
  {
   "cell_type": "markdown",
   "metadata": {},
   "source": [
    "Connection configuration"
   ]
  },
  {
   "cell_type": "code",
   "execution_count": 2,
   "metadata": {},
   "outputs": [],
   "source": [
    "username = 'postgres'\n",
    "password = 'kasztanP7r.U1'\n",
    "\n",
    "host = 'localhost'\n",
    "database = 'airlines'\n",
    "port = '5432'"
   ]
  },
  {
   "cell_type": "markdown",
   "metadata": {},
   "source": [
    "defining the con and cursor variables"
   ]
  },
  {
   "cell_type": "code",
   "execution_count": 3,
   "metadata": {},
   "outputs": [],
   "source": [
    "con = psycopg2.connect(dbname=database, user=username, password=password, host=host, port=port)\n",
    "cursor = con.cursor()"
   ]
  },
  {
   "cell_type": "code",
   "execution_count": 4,
   "metadata": {
    "tags": []
   },
   "outputs": [
    {
     "name": "stdout",
     "output_type": "stream",
     "text": [
      "Połączenie z bazą danych zostało ustanowione.\n"
     ]
    }
   ],
   "source": [
    "# Creating a connection\n",
    "try:\n",
    "    con = psycopg2.connect(dbname=database, user=username, password=password, host=host, port=port)\n",
    "    cursor = con.cursor()\n",
    "    print(\"Połączenie z bazą danych zostało ustanowione.\")\n",
    "except psycopg2.Error as e:\n",
    "    print(\"Błąd podczas nawiązywania połączenia z bazą danych:\", e)"
   ]
  },
  {
   "cell_type": "markdown",
   "metadata": {},
   "source": [
    "Loading the reporting.sql file"
   ]
  },
  {
   "cell_type": "code",
   "execution_count": 5,
   "metadata": {},
   "outputs": [
    {
     "name": "stdout",
     "output_type": "stream",
     "text": [
      "Plik reporting.sql został wczytany pomyślnie.\n"
     ]
    }
   ],
   "source": [
    "# Path to the database schema file\n",
    "schema_file_path = Path(r'C:\\Users\\eweli\\Downloads\\Pliki_do_projektu_końcowego\\sql\\reporting.sql')\n",
    "\n",
    "# Loading the contents of the database schema file\n",
    "try:\n",
    "    with open(schema_file_path, 'r') as file:\n",
    "        schema_sql = file.read()\n",
    "    print(\"Plik reporting.sql został wczytany pomyślnie.\")\n",
    "except FileNotFoundError:\n",
    "    print(\"Nie można znaleźć pliku reporting.sql w podanej lokalizacji.\")"
   ]
  },
  {
   "cell_type": "code",
   "execution_count": 6,
   "metadata": {},
   "outputs": [
    {
     "name": "stdout",
     "output_type": "stream",
     "text": [
      "CREATE SCHEMA IF NOT EXISTS reporting\n",
      "--------------------------------------------------\n",
      "CREATE OR REPLACE VIEW reporting.flight AS\n",
      "SELECT \n",
      "    *,\n",
      "    CASE WHEN dep_delay_new > 0 THEN 1 ELSE 0 END AS is_delayed\n",
      "FROM \n",
      "    public.flight\n",
      "WHERE \n",
      "    cancelled = 0\n",
      "--------------------------------------------------\n",
      "CREATE OR REPLACE VIEW reporting.top_reliability_roads AS\n",
      "SELECT \n",
      "    f.origin_airport_id,\n",
      "    a1.name AS origin_airport_name,\n",
      "    f.dest_airport_id,\n",
      "    a2.name AS dest_airport_name,\n",
      "    f.year,\n",
      "    COUNT(*) AS cnt,\n",
      "    (SUM(CASE WHEN f.arr_delay_new > 0 THEN 1 ELSE 0 END) * 100.0 / COUNT(*)) AS reliability,\n",
      "    DENSE_RANK() OVER (PARTITION BY f.origin_airport_id, f.dest_airport_id ORDER BY (SUM(CASE WHEN f.arr_delay_new > 0 THEN 1 ELSE 0 END) * 100.0 / COUNT(*)) DESC) AS nb\n",
      "FROM \n",
      "    public.flight f\n",
      "JOIN \n",
      "    public.airport_list a1 ON f.origin_airport_id = a1.origin_airport_id\n",
      "JOIN \n",
      "    public.airport_list a2 ON f.dest_airport_id = a2.origin_airport_id\n",
      "GROUP BY \n",
      "    f.origin_airport_id, a1.name, f.dest_airport_id, a2.name, f.year\n",
      "HAVING \n",
      "    COUNT(*) > 10000\n",
      "--------------------------------------------------\n",
      "CREATE OR REPLACE VIEW reporting.year_to_year_comparision AS\n",
      "SELECT \n",
      "    year,\n",
      "    month,\n",
      "    COUNT(*) AS flights_amount,\n",
      "    (SUM(CASE WHEN arr_delay_new > 0 THEN 1 ELSE 0 END) * 100.0 / COUNT(*)) AS reliability\n",
      "FROM \n",
      "    public.flight\n",
      "GROUP BY \n",
      "    year, month\n",
      "--------------------------------------------------\n",
      "CREATE OR REPLACE VIEW reporting.day_to_day_comparision AS\n",
      "SELECT \n",
      "    year,\n",
      "    day_of_week,\n",
      "    COUNT(*) AS flights_amount\n",
      "FROM \n",
      "    public.flight\n",
      "GROUP BY \n",
      "    year, day_of_week\n",
      "--------------------------------------------------\n",
      "CREATE OR REPLACE VIEW reporting.day_by_day_reliability AS\n",
      "SELECT \n",
      "    TO_DATE(LPAD(year::text, 4, '0') || '-' || LPAD(month::text, 2, '0') || '-' || LPAD(day_of_month::text, 2, '0'), 'YYYY-MM-DD') AS date,\n",
      "    (SUM(CASE WHEN arr_delay_new > 0 THEN 1 ELSE 0 END) * 100.0 / COUNT(*)) AS reliability\n",
      "FROM \n",
      "    public.flight\n",
      "GROUP BY \n",
      "    year, month, day_of_month\n",
      "--------------------------------------------------\n"
     ]
    }
   ],
   "source": [
    "# Contents of the reporting.sql file\n",
    "schema_content = \"\"\"\n",
    "CREATE SCHEMA IF NOT EXISTS reporting;\n",
    "\n",
    "CREATE OR REPLACE VIEW reporting.flight AS\n",
    "SELECT \n",
    "    *,\n",
    "    CASE WHEN dep_delay_new > 0 THEN 1 ELSE 0 END AS is_delayed\n",
    "FROM \n",
    "    public.flight\n",
    "WHERE \n",
    "    cancelled = 0;\n",
    "\n",
    "CREATE OR REPLACE VIEW reporting.top_reliability_roads AS\n",
    "SELECT \n",
    "    f.origin_airport_id,\n",
    "    a1.name AS origin_airport_name,\n",
    "    f.dest_airport_id,\n",
    "    a2.name AS dest_airport_name,\n",
    "    f.year,\n",
    "    COUNT(*) AS cnt,\n",
    "    (SUM(CASE WHEN f.arr_delay_new > 0 THEN 1 ELSE 0 END) * 100.0 / COUNT(*)) AS reliability,\n",
    "    DENSE_RANK() OVER (PARTITION BY f.origin_airport_id, f.dest_airport_id ORDER BY (SUM(CASE WHEN f.arr_delay_new > 0 THEN 1 ELSE 0 END) * 100.0 / COUNT(*)) DESC) AS nb\n",
    "FROM \n",
    "    public.flight f\n",
    "JOIN \n",
    "    public.airport_list a1 ON f.origin_airport_id = a1.origin_airport_id\n",
    "JOIN \n",
    "    public.airport_list a2 ON f.dest_airport_id = a2.origin_airport_id\n",
    "GROUP BY \n",
    "    f.origin_airport_id, a1.name, f.dest_airport_id, a2.name, f.year\n",
    "HAVING \n",
    "    COUNT(*) > 10000;\n",
    "\n",
    "\n",
    "CREATE OR REPLACE VIEW reporting.year_to_year_comparision AS\n",
    "SELECT \n",
    "    year,\n",
    "    month,\n",
    "    COUNT(*) AS flights_amount,\n",
    "    (SUM(CASE WHEN arr_delay_new > 0 THEN 1 ELSE 0 END) * 100.0 / COUNT(*)) AS reliability\n",
    "FROM \n",
    "    public.flight\n",
    "GROUP BY \n",
    "    year, month;\n",
    "\n",
    "CREATE OR REPLACE VIEW reporting.day_to_day_comparision AS\n",
    "SELECT \n",
    "    year,\n",
    "    day_of_week,\n",
    "    COUNT(*) AS flights_amount\n",
    "FROM \n",
    "    public.flight\n",
    "GROUP BY \n",
    "    year, day_of_week;\n",
    "\n",
    "CREATE OR REPLACE VIEW reporting.day_by_day_reliability AS\n",
    "SELECT \n",
    "    TO_DATE(LPAD(year::text, 4, '0') || '-' || LPAD(month::text, 2, '0') || '-' || LPAD(day_of_month::text, 2, '0'), 'YYYY-MM-DD') AS date,\n",
    "    (SUM(CASE WHEN arr_delay_new > 0 THEN 1 ELSE 0 END) * 100.0 / COUNT(*)) AS reliability\n",
    "FROM \n",
    "    public.flight\n",
    "GROUP BY \n",
    "    year, month, day_of_month;\n",
    "\n",
    "\"\"\"\n",
    "\n",
    "# Division of content into queries\n",
    "queries = schema_content.split(';')\n",
    "\n",
    "# Removing whitespace from queries\n",
    "queries = [query.strip() for query in queries if query.strip()]\n",
    "\n",
    "# View split queries\n",
    "for query in queries:\n",
    "    print(query)\n",
    "    print('-' * 50)\n"
   ]
  },
  {
   "cell_type": "markdown",
   "metadata": {},
   "source": []
  },
  {
   "cell_type": "code",
   "execution_count": 7,
   "metadata": {},
   "outputs": [
    {
     "name": "stdout",
     "output_type": "stream",
     "text": [
      "Kwerenda została wykonana pomyślnie.\n",
      "Kwerenda została wykonana pomyślnie.\n",
      "Kwerenda została wykonana pomyślnie.\n",
      "Kwerenda została wykonana pomyślnie.\n",
      "Kwerenda została wykonana pomyślnie.\n",
      "Kwerenda została wykonana pomyślnie.\n"
     ]
    }
   ],
   "source": [
    "# executing each query to initialize the database structure\n",
    "for query in queries:\n",
    "    if query.strip():  # Sprawdzenie, czy kwerenda nie jest pusta\n",
    "        try:\n",
    "            cursor.execute(query)\n",
    "            print(\"Kwerenda została wykonana pomyślnie.\")\n",
    "        except psycopg2.Error as e:\n",
    "            print(\"Błąd podczas wykonywania kwerendy:\", e)"
   ]
  },
  {
   "cell_type": "markdown",
   "metadata": {},
   "source": [
    "Approval of all operations on the database, i.e. creation of views"
   ]
  },
  {
   "cell_type": "code",
   "execution_count": 8,
   "metadata": {},
   "outputs": [],
   "source": [
    "# Approval of changes\n",
    "con.commit()\n"
   ]
  },
  {
   "cell_type": "markdown",
   "metadata": {},
   "source": [
    "Verification"
   ]
  },
  {
   "cell_type": "code",
   "execution_count": 9,
   "metadata": {},
   "outputs": [],
   "source": [
    "def check_if_table_exists(table_name):\n",
    "    msg = f\"Sprawdzam czy istnieje tabela {table_name}\"\n",
    "    print(msg)\n",
    "\n",
    "    query = f\"select 1 from {table_name}\"\n",
    "    # jeżeli tabela nie istnieje, ten krok zwróci wyjątek\n",
    "    cursor.execute(query)\n",
    "    print('OK!')"
   ]
  },
  {
   "cell_type": "code",
   "execution_count": 10,
   "metadata": {},
   "outputs": [],
   "source": [
    "views_to_test = [\n",
    "    'reporting.flight',\n",
    "    'reporting.top_reliability_roads',\n",
    "    'reporting.year_to_year_comparision',\n",
    "    'reporting.day_to_day_comparision',\n",
    "    'reporting.day_by_day_reliability'\n",
    "]"
   ]
  },
  {
   "cell_type": "code",
   "execution_count": 11,
   "metadata": {},
   "outputs": [
    {
     "name": "stdout",
     "output_type": "stream",
     "text": [
      "Sprawdzam czy istnieje tabela reporting.flight\n",
      "OK!\n",
      "Sprawdzam czy istnieje tabela reporting.top_reliability_roads\n",
      "OK!\n",
      "Sprawdzam czy istnieje tabela reporting.year_to_year_comparision\n",
      "OK!\n",
      "Sprawdzam czy istnieje tabela reporting.day_to_day_comparision\n",
      "OK!\n",
      "Sprawdzam czy istnieje tabela reporting.day_by_day_reliability\n",
      "OK!\n"
     ]
    }
   ],
   "source": [
    "for view in views_to_test:\n",
    "    check_if_table_exists(view)"
   ]
  },
  {
   "cell_type": "code",
   "execution_count": 12,
   "metadata": {},
   "outputs": [
    {
     "name": "stdout",
     "output_type": "stream",
     "text": [
      "Wszystko wygląda OK :) Możesz przejść do kolejnego zadania.\n"
     ]
    }
   ],
   "source": [
    "con.close()\n",
    "msg = \"Wszystko wygląda OK :) Możesz przejść do kolejnego zadania.\"\n",
    "print(msg)"
   ]
  }
 ],
 "metadata": {
  "kernelspec": {
   "display_name": "Python 3 (ipykernel)",
   "language": "python",
   "name": "python3"
  },
  "language_info": {
   "codemirror_mode": {
    "name": "ipython",
    "version": 3
   },
   "file_extension": ".py",
   "mimetype": "text/x-python",
   "name": "python",
   "nbconvert_exporter": "python",
   "pygments_lexer": "ipython3",
   "version": "3.11.5"
  },
  "vscode": {
   "interpreter": {
    "hash": "38d75d0df746d7f75dd34c5d1915af59cb55786647bd68b8d9064425d7680b12"
   }
  }
 },
 "nbformat": 4,
 "nbformat_minor": 4
}
